{
 "cells": [
  {
   "cell_type": "code",
   "execution_count": 1,
   "metadata": {},
   "outputs": [],
   "source": [
    "\"\"\"\n",
    "python程序猿首先接触的代码组织工具，就是函数（function）。\n",
    "与其他编程语言类，Python的函数也可以把一大段程序分为几个小部分，使每个小部分简单一些，这样就使得代码更加易读，也可以更便于使用\n",
    "Python中的函数很多性质，能够简化程序员编程工作，某些性质与其他编程语言类似，另外一些则使Python独有的。这些性质彰显函数功能，减少杂乱的语句\n",
    "阐明调用者意图，也可以有力的防止程序出现难于查找的bug\n",
    "\n",
    "\"\"\""
   ]
  },
  {
   "cell_type": "code",
   "execution_count": 6,
   "metadata": {},
   "outputs": [],
   "source": [
    "# 编写工具函数时，Python程序员喜欢给 None 这个返回值赋予特殊的意义，这么做有时候合理。\n",
    "# 例如，要编写辅助函数，计算两数相除的商，在除数为0情况下，计算结果是没有明确含义的，所以似乎应该返回None\n",
    "\n",
    "def divide(a,b):\n",
    "    try:\n",
    "        return a / b \n",
    "    except ZeroDivisionError:\n",
    "        return None\n",
    "divide(0,0)\n",
    "\n",
    "# 此函数的调用者，可以对特殊的返回值做相应的解读"
   ]
  },
  {
   "cell_type": "code",
   "execution_count": null,
   "metadata": {},
   "outputs": [],
   "source": [
    "result = divide(x,y)\n",
    "if result is None:\n",
    "    print(\"Invalid inputs\")\n",
    "\n",
    "# 分子若是0，会怎么样呢? 在那种情况下，如果分母非零，那么计算结果就是0。\n",
    "# 当在if条件语句"
   ]
  }
 ],
 "metadata": {
  "kernelspec": {
   "display_name": "Python 3",
   "language": "python",
   "name": "python3"
  },
  "language_info": {
   "codemirror_mode": {
    "name": "ipython",
    "version": 3
   },
   "file_extension": ".py",
   "mimetype": "text/x-python",
   "name": "python",
   "nbconvert_exporter": "python",
   "pygments_lexer": "ipython3",
   "version": "3.7.0b1"
  }
 },
 "nbformat": 4,
 "nbformat_minor": 2
}
