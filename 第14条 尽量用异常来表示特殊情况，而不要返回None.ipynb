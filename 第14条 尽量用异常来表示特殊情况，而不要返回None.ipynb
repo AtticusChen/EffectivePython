{
 "cells": [
  {
   "cell_type": "code",
   "execution_count": 10,
   "metadata": {},
   "outputs": [],
   "source": [
    "\"\"\"\n",
    "python程序猿首先接触的代码组织工具，就是函数（function）。\n",
    "与其他编程语言类，Python的函数也可以把一大段程序分为几个小部分，使每个小部分简单一些，这样就使得代码更加易读，也可以更便于使用\n",
    "Python中的函数很多性质，能够简化程序员编程工作，某些性质与其他编程语言类似，另外一些则使Python独有的。这些性质彰显函数功能，减少杂乱的语句\n",
    "阐明调用者意图，也可以有力的防止程序出现难于查找的bug\n",
    "\n",
    "\"\"\""
   ]
  },
  {
   "cell_type": "code",
   "execution_count": 12,
   "metadata": {},
   "outputs": [],
   "source": [
    "# 编写工具函数时，Python程序员喜欢给 None 这个返回值赋予特殊的意义，这么做有时候合理。\n",
    "# 例如，要编写辅助函数，计算两数相除的商，在除数为0情况下，计算结果是没有明确含义的，所以似乎应该返回None\n",
    "\n",
    "def divide(a,b):\n",
    "    try:\n",
    "        return a / b \n",
    "    except ZeroDivisionError:\n",
    "        return None\n",
    "divide(0,0)\n",
    "\n",
    "# 此函数的调用者，可以对特殊的返回值做相应的解读\n",
    "result = divide(5,10)\n",
    "if result is None:\n",
    "    print(\"Invalid inputs\")"
   ]
  },
  {
   "cell_type": "code",
   "execution_count": 13,
   "metadata": {},
   "outputs": [
    {
     "name": "stdout",
     "output_type": "stream",
     "text": [
      "Invalid inputs\n"
     ]
    }
   ],
   "source": [
    "\n",
    "\"\"\"\n",
    "分子若是0，会怎么样呢? 在那种情况下，如果分母非零，那么计算结果就是0。当在if条件语句中拿这个计算结果做判断，会出现问题。\n",
    "我们可能不会专门去判断函数的返回值是否为None，而是会假定：只要返回了与False等效运算结果，就说明函数出错了\n",
    "\"\"\"\n",
    "x,y = 0,5 \n",
    "result = divide(x,y)\n",
    "if not result:\n",
    "    print(\"Invalid inputs\")\n",
    "    \n",
    "# 如果None这个返回值，对函数有特殊函数，那么在编写Python代码来调用该函数时，就很容易犯上面这种错误。由此可见，令函数返回 None\n",
    "# 可能会使调用它的人写出错误的代码，有两种办法可以减少这种错误\n"
   ]
  },
  {
   "cell_type": "code",
   "execution_count": 36,
   "metadata": {},
   "outputs": [],
   "source": [
    "# 第一种办法，是吧返回值拆成两部分，并放到二元组里面。二元组的首个元素，表示操作是否成功，接下来的那个元素，才是真的运算结果\n",
    "\n",
    "def divide(a,b):\n",
    "    try: \n",
    "        return True ,a / b\n",
    "    except ZeroDivisionError:\n",
    "        return False,None\n",
    "divide(2,2)\n",
    "# 调用该函数的人需要解析这个元组，这就迫使他们必须根据元组中表示的运算状态的那个元素来做判断。\n",
    "# 而不能像从前那样，直接根据相除的结果做判断\n",
    "success , result = divide(x,y)\n",
    "if not success:\n",
    "    print(\"无效输入\")\n",
    "    \n",
    "\"\"\"\n",
    "问题在于，调用者可以通过以下划线为名称的变量，轻易跳过元组的第一部分。\n",
    "这样写出来的代码，看上去似乎没错，但是，却跟直接返回None的那种情况相同的错误\n",
    "\"\"\""
   ]
  },
  {
   "cell_type": "code",
   "execution_count": 34,
   "metadata": {},
   "outputs": [
    {
     "ename": "ValueError",
     "evalue": "无效输入",
     "output_type": "error",
     "traceback": [
      "\u001b[1;31m---------------------------------------------------------------------------\u001b[0m",
      "\u001b[1;31mZeroDivisionError\u001b[0m                         Traceback (most recent call last)",
      "\u001b[1;32m<ipython-input-34-4996cfaeba35>\u001b[0m in \u001b[0;36mdivide\u001b[1;34m(a, b)\u001b[0m\n\u001b[0;32m      4\u001b[0m     \u001b[1;32mtry\u001b[0m\u001b[1;33m:\u001b[0m\u001b[1;33m\u001b[0m\u001b[0m\n\u001b[1;32m----> 5\u001b[1;33m         \u001b[1;32mreturn\u001b[0m \u001b[0ma\u001b[0m \u001b[1;33m/\u001b[0m \u001b[0mb\u001b[0m\u001b[1;33m\u001b[0m\u001b[0m\n\u001b[0m\u001b[0;32m      6\u001b[0m     \u001b[1;32mexcept\u001b[0m \u001b[0mZeroDivisionError\u001b[0m \u001b[1;32mas\u001b[0m \u001b[0me\u001b[0m\u001b[1;33m:\u001b[0m\u001b[1;33m\u001b[0m\u001b[0m\n",
      "\u001b[1;31mZeroDivisionError\u001b[0m: division by zero",
      "\nThe above exception was the direct cause of the following exception:\n",
      "\u001b[1;31mValueError\u001b[0m                                Traceback (most recent call last)",
      "\u001b[1;32m<ipython-input-34-4996cfaeba35>\u001b[0m in \u001b[0;36m<module>\u001b[1;34m\u001b[0m\n\u001b[0;32m      6\u001b[0m     \u001b[1;32mexcept\u001b[0m \u001b[0mZeroDivisionError\u001b[0m \u001b[1;32mas\u001b[0m \u001b[0me\u001b[0m\u001b[1;33m:\u001b[0m\u001b[1;33m\u001b[0m\u001b[0m\n\u001b[0;32m      7\u001b[0m         \u001b[1;32mraise\u001b[0m \u001b[0mValueError\u001b[0m\u001b[1;33m(\u001b[0m\u001b[1;34m\"无效输入\"\u001b[0m\u001b[1;33m)\u001b[0m \u001b[1;32mfrom\u001b[0m \u001b[0me\u001b[0m\u001b[1;33m\u001b[0m\u001b[0m\n\u001b[1;32m----> 8\u001b[1;33m \u001b[0mdivide\u001b[0m\u001b[1;33m(\u001b[0m\u001b[1;36m0\u001b[0m\u001b[1;33m,\u001b[0m\u001b[1;36m0\u001b[0m\u001b[1;33m)\u001b[0m\u001b[1;33m\u001b[0m\u001b[0m\n\u001b[0m",
      "\u001b[1;32m<ipython-input-34-4996cfaeba35>\u001b[0m in \u001b[0;36mdivide\u001b[1;34m(a, b)\u001b[0m\n\u001b[0;32m      5\u001b[0m         \u001b[1;32mreturn\u001b[0m \u001b[0ma\u001b[0m \u001b[1;33m/\u001b[0m \u001b[0mb\u001b[0m\u001b[1;33m\u001b[0m\u001b[0m\n\u001b[0;32m      6\u001b[0m     \u001b[1;32mexcept\u001b[0m \u001b[0mZeroDivisionError\u001b[0m \u001b[1;32mas\u001b[0m \u001b[0me\u001b[0m\u001b[1;33m:\u001b[0m\u001b[1;33m\u001b[0m\u001b[0m\n\u001b[1;32m----> 7\u001b[1;33m         \u001b[1;32mraise\u001b[0m \u001b[0mValueError\u001b[0m\u001b[1;33m(\u001b[0m\u001b[1;34m\"无效输入\"\u001b[0m\u001b[1;33m)\u001b[0m \u001b[1;32mfrom\u001b[0m \u001b[0me\u001b[0m\u001b[1;33m\u001b[0m\u001b[0m\n\u001b[0m\u001b[0;32m      8\u001b[0m \u001b[0mdivide\u001b[0m\u001b[1;33m(\u001b[0m\u001b[1;36m0\u001b[0m\u001b[1;33m,\u001b[0m\u001b[1;36m0\u001b[0m\u001b[1;33m)\u001b[0m\u001b[1;33m\u001b[0m\u001b[0m\n",
      "\u001b[1;31mValueError\u001b[0m: 无效输入"
     ]
    }
   ],
   "source": [
    "# 第二种办法 直接不返回None，而直接把异常抛给上一级，使得调用者必须应对。把ZeroDivisionError转换成ValueError 用调用者所给的输入值无效\n",
    "\n",
    "def divide(a,b):\n",
    "    try:\n",
    "        return a / b \n",
    "    except ZeroDivisionError as e:\n",
    "        raise ValueError(\"无效输入\") from e\n",
    "divide(0,0)"
   ]
  },
  {
   "cell_type": "code",
   "execution_count": 42,
   "metadata": {},
   "outputs": [
    {
     "ename": "TypeError",
     "evalue": "not all arguments converted during string formatting",
     "output_type": "error",
     "traceback": [
      "\u001b[1;31m---------------------------------------------------------------------------\u001b[0m",
      "\u001b[1;31mTypeError\u001b[0m                                 Traceback (most recent call last)",
      "\u001b[1;32m<ipython-input-42-f6254a1aba25>\u001b[0m in \u001b[0;36m<module>\u001b[1;34m\u001b[0m\n\u001b[0;32m      9\u001b[0m     \u001b[0mprint\u001b[0m\u001b[1;33m(\u001b[0m\u001b[1;34m\"无效输入\"\u001b[0m\u001b[1;33m)\u001b[0m\u001b[1;33m\u001b[0m\u001b[0m\n\u001b[0;32m     10\u001b[0m \u001b[1;32melse\u001b[0m\u001b[1;33m:\u001b[0m\u001b[1;33m\u001b[0m\u001b[0m\n\u001b[1;32m---> 11\u001b[1;33m     \u001b[0mprint\u001b[0m\u001b[1;33m(\u001b[0m\u001b[1;34m\"Result is  %.1f\"\u001b[0m \u001b[1;33m%\u001b[0m \u001b[0mresult\u001b[0m\u001b[1;33m)\u001b[0m\u001b[1;33m\u001b[0m\u001b[0m\n\u001b[0m",
      "\u001b[1;31mTypeError\u001b[0m: not all arguments converted during string formatting"
     ]
    }
   ],
   "source": [
    "\"\"\"\n",
    "调用者就需要处理因输入值无效引发的异常了，调用者无需用条件语句来判断函数的返回值，因为如果函数没有抛出异常，返回值自然争取\n",
    "\"\"\"\n",
    "\n",
    "x,y = 5,2\n",
    "try:\n",
    "    result = divide(x,y)\n",
    "except ValueError:\n",
    "    print(\"无效输入\")\n",
    "else:\n",
    "    print(\"Result is  %.1f\" % result)"
   ]
  },
  {
   "cell_type": "code",
   "execution_count": 43,
   "metadata": {},
   "outputs": [],
   "source": [
    "# 要点\n",
    "\n",
    "# 1.用None这个返回值来表示特殊意义的函数，很容易使调用者犯错，因为None和0以及空字符串之类的值，在条件表达式中都评估 False\n",
    "# 2.函数在遇到这种情况下，应该抛出异常，而不要返回None，调用者看到函数的文档描述异常之后，应该会编码相应的代码来处理"
   ]
  },
  {
   "cell_type": "code",
   "execution_count": null,
   "metadata": {},
   "outputs": [],
   "source": []
  }
 ],
 "metadata": {
  "kernelspec": {
   "display_name": "Python 3",
   "language": "python",
   "name": "python3"
  },
  "language_info": {
   "codemirror_mode": {
    "name": "ipython",
    "version": 3
   },
   "file_extension": ".py",
   "mimetype": "text/x-python",
   "name": "python",
   "nbconvert_exporter": "python",
   "pygments_lexer": "ipython3",
   "version": "3.7.0b1"
  }
 },
 "nbformat": 4,
 "nbformat_minor": 2
}
