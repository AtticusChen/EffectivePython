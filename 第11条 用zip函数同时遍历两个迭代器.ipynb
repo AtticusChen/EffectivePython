{
 "cells": [
  {
   "cell_type": "code",
   "execution_count": 1,
   "metadata": {},
   "outputs": [
    {
     "data": {
      "text/plain": [
       "[6, 4, 4, 4]"
      ]
     },
     "execution_count": 1,
     "metadata": {},
     "output_type": "execute_result"
    }
   ],
   "source": [
    "#  在编写Python代码时，通常需要面对很多列表，而这些列表对象，可能也是相互关联，相互联系。\n",
    "#  通过一系列的列表推导式，很轻松的能从某个表达式从源代码推算出一份派生类表\n",
    "\n",
    "names = [\"ceclie\",\"lise\",\"rock\",\"jack\"]\n",
    "letters = [len(n) for n in names]\n",
    "letters"
   ]
  },
  {
   "cell_type": "code",
   "execution_count": 2,
   "metadata": {},
   "outputs": [
    {
     "name": "stdout",
     "output_type": "stream",
     "text": [
      "ceclie\n"
     ]
    }
   ],
   "source": [
    "# 对于本例中派生列表和源列表来说，相同索引处的两个元素之间有所关联。如果想平行迭代这两个列表,那么可以根据names源列表的长度来执行循环\n",
    "\n",
    "longest_name =None\n",
    "max_letters = 0\n",
    "for i in range(len(names)):\n",
    "    count = letters[i]\n",
    "    if count > max_letters:\n",
    "        longest_name = names[i]\n",
    "        max_letters = count\n",
    "print(longest_name)\n",
    "\n",
    "# 上述代码看着特别混乱，循环语句特别复杂，用下标来访问names和letters会使代码不易阅读。用循环下标i来访问数组的写法一个出现了两次。\n",
    "# 改用enumerate来做可以稍稍缓解这个问题，但仍然不够理想\n",
    "for i ,name in enumerate(names):\n",
    "    count  = letters[i]\n",
    "    if count > max_letters:\n",
    "        longest_name = name\n",
    "        max_letters = count"
   ]
  },
  {
   "cell_type": "code",
   "execution_count": 4,
   "metadata": {},
   "outputs": [
    {
     "name": "stdout",
     "output_type": "stream",
     "text": [
      "ceclie\n",
      "6\n"
     ]
    }
   ],
   "source": [
    "# 使用Python内置的zip函数，能够令上述代码变的更加简洁。在Python3中的zip函数，可以把两个或两个以上的迭代器封装成生成器，以便稍后求值\n",
    "# 这种zip生成，会从每个迭代器中获取改迭代器的下一个值，然后把这些值汇聚成元组（tuple）与通过下标来访问多份列表的那种写法比较，这种用zip写出来更清晰\n",
    "\n",
    "for name,count in zip(names,letters):\n",
    "    if count > max_letters:\n",
    "        longest_name = name\n",
    "        max_letters = count\n",
    "print(longest_name)\n",
    "print(max_letters)\n",
    "  \n",
    "\n"
   ]
  },
  {
   "cell_type": "code",
   "execution_count": null,
   "metadata": {},
   "outputs": [],
   "source": [
    "# 要点\n",
    "#  1. 内置的zip函数可以平行的遍历多个迭代器\n",
    "#  2. Python 3 中的zip相当于生成器，会在遍历过程中逐次产生元组，而Python2中的zip则直接把这些元组完全生成好，并一次返回整个列表\n",
    "#  3. 如果提供的迭代器长度不等，那么zip就会自动提前停止\n",
    "#  4. itertools内置模块中 zip_longest函数可以平行的遍历多个迭代器，而不用在乎他们的长度是否相等"
   ]
  }
 ],
 "metadata": {
  "kernelspec": {
   "display_name": "Python 3",
   "language": "python",
   "name": "python3"
  },
  "language_info": {
   "codemirror_mode": {
    "name": "ipython",
    "version": 3
   },
   "file_extension": ".py",
   "mimetype": "text/x-python",
   "name": "python",
   "nbconvert_exporter": "python",
   "pygments_lexer": "ipython3",
   "version": "3.7.0b1"
  }
 },
 "nbformat": 4,
 "nbformat_minor": 2
}
