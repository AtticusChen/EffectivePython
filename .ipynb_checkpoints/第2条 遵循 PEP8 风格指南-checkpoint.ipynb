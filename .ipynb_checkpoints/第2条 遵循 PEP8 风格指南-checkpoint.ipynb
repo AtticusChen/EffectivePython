{
 "cells": [
  {
   "cell_type": "code",
   "execution_count": 2,
   "metadata": {},
   "outputs": [],
   "source": [
    "# 使用 space 来标识缩进，而不要用 tab \n",
    "\n",
    "# 和语法相关的每一层缩进都用 4 个空格来表示\n",
    "\n",
    "# 每行字符数不超过79\n",
    "\n",
    "# 对于占据多行的长表达来说，除了首行之外的其余各行都应该在通常的缩进级别在加上 4 个空格\n",
    "\n",
    "# 文件中的函数与类之间应该用 2 个 空行隔开\n",
    "\n",
    "# 在同一个类中，各个方法之间都应该用一个空行隔开\n",
    "\n",
    "# 在使用下标获取列表元素，调用函数或者给关键字参数赋值的时候，不要在两旁添加空格\n",
    "\n",
    "# 为变量赋值的时候，赋值符合的左侧和右侧都应该写一个空格，而且只写一个就好\n"
   ]
  },
  {
   "cell_type": "code",
   "execution_count": 3,
   "metadata": {},
   "outputs": [],
   "source": [
    "# 函数、变量以及 属性应该小写字母来拼写，各个单词之间用下划线相连，例如：lowercase_underscore\n",
    "\n",
    "# 受保护的实例属性，应该以单个下划线开头，例如 _leading _underscore\n",
    "\n",
    "# 私有的实例属性，应该两个下划线开头  例如 : __double__\n",
    "\n",
    "# 类与异常，应该以每个单词首字母大写的形式来命名，例如： CapitalizeWord\n",
    "\n",
    "# 模块级别的常量，应该采用大写拼写，各个单词之间下划线相连 例如：ALL_CAPS\n",
    "\n",
    "# 类中的实例方法，应该首个参数命名为 self 以表示该对象自身\n",
    "\n",
    "# 类方法 的首个参数，应该命名cls，以表示自身"
   ]
  },
  {
   "cell_type": "code",
   "execution_count": null,
   "metadata": {},
   "outputs": [],
   "source": []
  }
 ],
 "metadata": {
  "kernelspec": {
   "display_name": "Python 3",
   "language": "python",
   "name": "python3"
  },
  "language_info": {
   "codemirror_mode": {
    "name": "ipython",
    "version": 3
   },
   "file_extension": ".py",
   "mimetype": "text/x-python",
   "name": "python",
   "nbconvert_exporter": "python",
   "pygments_lexer": "ipython3",
   "version": "3.7.0b1"
  }
 },
 "nbformat": 4,
 "nbformat_minor": 2
}
