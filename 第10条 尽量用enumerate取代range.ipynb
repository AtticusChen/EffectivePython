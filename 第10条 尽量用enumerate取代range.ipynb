{
 "cells": [
  {
   "cell_type": "markdown",
   "metadata": {},
   "source": [
    "## 第10条 尽量用enumerate取代range"
   ]
  },
  {
   "cell_type": "code",
   "execution_count": 4,
   "metadata": {},
   "outputs": [
    {
     "name": "stdout",
     "output_type": "stream",
     "text": [
      "vanilla is delicious\n",
      "chocolate is delicious\n",
      "pecan is delicious\n",
      "strawberry is delicious\n"
     ]
    }
   ],
   "source": [
    "flavor_list = [\"vanilla\",\"chocolate\",\"pecan\",\"strawberry\"]\n",
    "for flavor in flavor_list:\n",
    "    print(\"%s is delicious\" % flavor)"
   ]
  },
  {
   "cell_type": "code",
   "execution_count": 8,
   "metadata": {},
   "outputs": [
    {
     "name": "stdout",
     "output_type": "stream",
     "text": [
      "1:vanilla\n",
      "2:chocolate\n",
      "3:pecan\n",
      "4:strawberry\n"
     ]
    }
   ],
   "source": [
    "#  通过列表下标来获取列表所有\n",
    "\n",
    "for i in range(len(flavor_list)):\n",
    "    flavor = flavor_list[i]\n",
    "    print(\"%d:%s\"%(i+1,flavor))"
   ]
  },
  {
   "cell_type": "code",
   "execution_count": 11,
   "metadata": {},
   "outputs": [
    {
     "name": "stdout",
     "output_type": "stream",
     "text": [
      "1 vanilla\n",
      "2 chocolate\n",
      "3 pecan\n",
      "4 strawberry\n"
     ]
    }
   ],
   "source": [
    "# python 内置函数 enumerate  enumerate 可以把各种迭代器包装为生成器\n",
    "\n",
    "for i,flavor in enumerate(flavor_list):\n",
    "    #print(i,flavor)\n",
    "    print(\"%d %s\"%(i+1,flavor))"
   ]
  },
  {
   "cell_type": "code",
   "execution_count": 12,
   "metadata": {},
   "outputs": [
    {
     "name": "stdout",
     "output_type": "stream",
     "text": [
      "2:vanilla\n",
      "3:chocolate\n",
      "4:pecan\n",
      "5:strawberry\n"
     ]
    }
   ],
   "source": [
    "# 可以直接指定 enumerate 函数开始计数时所用的值（本例从1开始计数）\n",
    "for i ,flavor in enumerate(flavor_list,1):\n",
    "    print(\"%d:%s\"%(i+1,flavor))"
   ]
  },
  {
   "cell_type": "code",
   "execution_count": null,
   "metadata": {},
   "outputs": [],
   "source": [
    "#  enumerate函数提供一种精简的写法，可以遍历迭代器时获知每个元素的索引\n",
    "#  尽量用 enumerate 来改写那种将range与下标访问相结合的序列遍历代码\n",
    "#  可以给 enumerate 提供第二个参数，以指定开始计数时所用的值（默认为0）"
   ]
  }
 ],
 "metadata": {
  "kernelspec": {
   "display_name": "Python 3",
   "language": "python",
   "name": "python3"
  },
  "language_info": {
   "codemirror_mode": {
    "name": "ipython",
    "version": 3
   },
   "file_extension": ".py",
   "mimetype": "text/x-python",
   "name": "python",
   "nbconvert_exporter": "python",
   "pygments_lexer": "ipython3",
   "version": "3.7.0b1"
  }
 },
 "nbformat": 4,
 "nbformat_minor": 2
}
