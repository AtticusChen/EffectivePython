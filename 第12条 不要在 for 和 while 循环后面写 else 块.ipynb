{
 "cells": [
  {
   "cell_type": "code",
   "execution_count": 1,
   "metadata": {},
   "outputs": [
    {
     "name": "stdout",
     "output_type": "stream",
     "text": [
      "Loop 0\n",
      "Loop 1\n",
      "Loop 2\n",
      "Else block!\n"
     ]
    }
   ],
   "source": [
    "# Python 提供了一种编程语言都不支持的功能，那就是在循环语句内部编写 else 块\n",
    "for i in range(3):\n",
    "    print(\"Loop %d\" %i)\n",
    "else:\n",
    "    print(\"Else block!\")"
   ]
  },
  {
   "cell_type": "code",
   "execution_count": 4,
   "metadata": {},
   "outputs": [
    {
     "name": "stdout",
     "output_type": "stream",
     "text": [
      "Loop 0\n",
      "Loop 1\n",
      "For Else block!\n",
      "While Else block!\n"
     ]
    }
   ],
   "source": [
    "# 奇怪的问题，这种else块会在整个循环执行完之后执行，既然如此，那么他为什么叫else呢？为什么不叫and？\n",
    "# 在 if/else 语句中 else意思是：如果不执行前面if块，那么就执行else块，在 try/except 语句中，except 定义： 如果前面try没有成功，那么执行except\n",
    "# 该结构  else 含义是: 如果前面try块没有失败，那么就执行else块。\n",
    "\n",
    "for i in range(3):\n",
    "    print(\"Loop %d\" % i)\n",
    "    if i == 1:\n",
    "        break\n",
    "else:\n",
    "    print(\"Else block\")\n",
    "\n",
    "# 还有一个奇怪的地方： 如果 for 循环要遍历的序列为空，那么就会立刻执行 else 块\n",
    "for x in []:\n",
    "    print(\"Never runs\")\n",
    "else:\n",
    "    print(\"For Else block!\")\n",
    "    \n",
    "# 初始循环条件为 false 的 while循环，如果后面跟着 else 块，那它也会立刻执行。\n",
    "while False:\n",
    "    print(\"Never runs\")\n",
    "else:\n",
    "    print(\"While Else block!\")\n",
    "\n",
    " "
   ]
  },
  {
   "cell_type": "code",
   "execution_count": 5,
   "metadata": {},
   "outputs": [
    {
     "name": "stdout",
     "output_type": "stream",
     "text": [
      "Testing 2\n",
      "Testing 3\n",
      "Testing 4\n",
      "Coprime\n"
     ]
    }
   ],
   "source": [
    "# 知道了 循环后面的else块所表现出的行为之后，我们发现：在搜索某个事物的时候，这种写法的意义。\n",
    "# 例如，要判断两个数是否互质（也就是判断两者除了1之外，是否没有其他的公约数），可以把有可能成为公约数的每个值遍历一轮，逐个判断两数是否\n",
    "# 能以该值为公约数，尝试完每一种可能的值之后，循环就结束了。如果两个数确实互质，那么在循环过程中，程序就不会因break语句跳出，于是，执行完\n",
    "# 循环以后，程序紧接着执行 else 块\n",
    "\n",
    "a = 4\n",
    "b = 9\n",
    "for i in range(2,min(a,b)+1):\n",
    "    print(\"Testing\",i)\n",
    "    if a % i ==0 and b %i ==0:\n",
    "        print(\"Not coprime\")\n",
    "        break\n",
    "else:\n",
    "    print(\"Coprime\")"
   ]
  },
  {
   "cell_type": "code",
   "execution_count": 10,
   "metadata": {},
   "outputs": [
    {
     "data": {
      "text/plain": [
       "False"
      ]
     },
     "execution_count": 10,
     "metadata": {},
     "output_type": "execute_result"
    }
   ],
   "source": [
    "# 实际上，我们也不会这样写代码，而是会用辅助函数来完成计算，这样的辅助函数有两种写法：\n",
    "# 第一种，只要发现受测参数符合自己想要搜寻的条件，就尽早返回。如果整个循环都完整的执行了一遍，那么说明受测参数不符合条件，于是返回默认值\n",
    "# 一\n",
    "def coprime(a,b):\n",
    "    for i in range(2,min(a,b)+1):\n",
    "        if a%i == 0 and b%i == 0:\n",
    "            return False\n",
    "    return True\n",
    "coprime(2,4)\n",
    "\n",
    "# 第二种，用变量来记录受测参数是否符合自己想要搜寻的条件，一旦符合，就用break跳出循环\n",
    "def coprime2(a,b):\n",
    "    is_coprime = True\n",
    "    for i in range(2,min(a,b)+1):\n",
    "        if a%i ==0 and b%i ==0:\n",
    "            is_coprime = False\n",
    "            break\n",
    "    return is_coprime\n"
   ]
  },
  {
   "cell_type": "code",
   "execution_count": null,
   "metadata": {},
   "outputs": [],
   "source": [
    "#  要点\n",
    "#  1. Python 有种特殊的语法，可在for以及while 循环的内部语句块之后紧跟一个else块\n",
    "#  2. 只有当整个循环主体都没遇到 break 语句时，循环后面的else才会执行\n",
    "#  3. 不要在循环后面使用 else 块，因为这种写法不直观，又容易误解"
   ]
  },
  {
   "cell_type": "code",
   "execution_count": null,
   "metadata": {},
   "outputs": [],
   "source": []
  },
  {
   "cell_type": "code",
   "execution_count": null,
   "metadata": {},
   "outputs": [],
   "source": []
  },
  {
   "cell_type": "code",
   "execution_count": null,
   "metadata": {},
   "outputs": [],
   "source": []
  }
 ],
 "metadata": {
  "kernelspec": {
   "display_name": "Python 3",
   "language": "python",
   "name": "python3"
  },
  "language_info": {
   "codemirror_mode": {
    "name": "ipython",
    "version": 3
   },
   "file_extension": ".py",
   "mimetype": "text/x-python",
   "name": "python",
   "nbconvert_exporter": "python",
   "pygments_lexer": "ipython3",
   "version": "3.7.0b1"
  }
 },
 "nbformat": 4,
 "nbformat_minor": 2
}
