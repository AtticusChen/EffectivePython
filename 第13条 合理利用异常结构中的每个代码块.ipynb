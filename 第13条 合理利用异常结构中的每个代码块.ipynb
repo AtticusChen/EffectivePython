{
 "cells": [
  {
   "cell_type": "code",
   "execution_count": 11,
   "metadata": {},
   "outputs": [],
   "source": [
    "# Python 程序的异常处理可能要考虑四种不同的时机。这些时机可以用 try、except、else、finally、块来表述\n",
    "# 复合语句中每个块都有特定的用途，可以构成很多中组合\n",
    "\n",
    "# 1.finally 块\n",
    "# 如果既要将异常向上传播，又要在异常发生时执行清理工作，那就可以用 try/finally 结构。\n",
    "# 这种结构有一项常见的用途，就是确保程序能够可靠的关闭文件句柄\n",
    "\n",
    "handle = open(\"Testdata/testdata.txt\",\"r\",encoding=\"utf-8\")\n",
    "try:\n",
    "    data = handle.read()\n",
    "finally:\n",
    "    handle.close()\n",
    "    \n",
    "# 在上面代码中，read方法所抛出的异常会向上传播给调用方，而finally块中的handle.close方法则一定能够执行。\n",
    "# open 方法必须放在 try块外面，因为如果打开文件时候发生异常，那么程序应该跳过finally 块 \n"
   ]
  },
  {
   "cell_type": "code",
   "execution_count": null,
   "metadata": {},
   "outputs": [],
   "source": [
    "# else 块\n",
    "# try/excep/else 结构可以清晰的描述出哪些异常会有自己代码来处理，哪些异常会传播到上一级。\n",
    "# 如果 try 块没有发生异常，那么就执行 else 块。有了这种else块，我们可以尽量缩短try块内的代码量，时其更加易读。\n",
    "\n",
    "def load_json_key(data,key):\n",
    "    try:\n",
    "        result_dict = json.loads(data)\n",
    "    except ValueError as e:\n",
    "        raise KeyError from e\n",
    "    else:\n",
    "        return result_dict[key]"
   ]
  }
 ],
 "metadata": {
  "kernelspec": {
   "display_name": "Python 3",
   "language": "python",
   "name": "python3"
  },
  "language_info": {
   "codemirror_mode": {
    "name": "ipython",
    "version": 3
   },
   "file_extension": ".py",
   "mimetype": "text/x-python",
   "name": "python",
   "nbconvert_exporter": "python",
   "pygments_lexer": "ipython3",
   "version": "3.7.0b1"
  }
 },
 "nbformat": 4,
 "nbformat_minor": 2
}
