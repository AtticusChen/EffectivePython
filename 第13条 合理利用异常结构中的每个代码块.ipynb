{
 "cells": [
  {
   "cell_type": "code",
   "execution_count": 11,
   "metadata": {},
   "outputs": [],
   "source": [
    "# Python 程序的异常处理可能要考虑四种不同的时机。这些时机可以用 try、except、else、finally、块来表述\n",
    "# 复合语句中每个块都有特定的用途，可以构成很多中组合\n",
    "\n",
    "# 1.finally 块\n",
    "# 如果既要将异常向上传播，又要在异常发生时执行清理工作，那就可以用 try/finally 结构。\n",
    "# 这种结构有一项常见的用途，就是确保程序能够可靠的关闭文件句柄\n",
    "\n",
    "handle = open(\"Testdata/testdata.txt\",\"r\",encoding=\"utf-8\")\n",
    "try:\n",
    "    data = handle.read()\n",
    "finally:\n",
    "    handle.close()\n",
    "    \n",
    "# 在上面代码中，read方法所抛出的异常会向上传播给调用方，而finally块中的handle.close方法则一定能够执行。\n",
    "# open 方法必须放在 try块外面，因为如果打开文件时候发生异常，那么程序应该跳过finally 块 \n"
   ]
  },
  {
   "cell_type": "code",
   "execution_count": 1,
   "metadata": {},
   "outputs": [],
   "source": [
    "# else 块\n",
    "# try/excep/else 结构可以清晰的描述出哪些异常会有自己代码来处理，哪些异常会传播到上一级。\n",
    "# 如果 try 块没有发生异常，那么就执行 else 块。有了这种else块，我们可以尽量缩短try块内的代码量，时其更加易读。\n",
    "\n",
    "def load_json_key(data,key):\n",
    "    try:\n",
    "        result_dict = json.loads(data)\n",
    "    except ValueError as e:\n",
    "        raise KeyError from e\n",
    "    else:\n",
    "        return result_dict[key]\n",
    "\n",
    "# 如果数据不是有效的JSON格式，那么用json.loads解码时，会产生ValueError。这个异常会由 except 块来捕获并处理。\n",
    "# 如果能解码，那么else块里查找语句就会执行，他会根据键查出相关的值，查询时若有异常，则该异常会向上传播，因为查询语句并不在刚才的try范围\n",
    "# 这种else子句，会把 try/except 后面的内容和except块本身区分开，使异常的传播行为变更加清晰\n"
   ]
  },
  {
   "cell_type": "code",
   "execution_count": 2,
   "metadata": {},
   "outputs": [],
   "source": [
    "# 混合使用\n",
    "\n",
    "# 如果要在复合语句中把上面的几种机制都用到，那么编写完整的 try/except/else/finally 结构。\n",
    "# 例如，要从文件中读取某些事务的描述信息，处理该事务，然后就地更新该文件。为了实现此功能，\n",
    "#   用 try 块来读取文件并处理其内容，\n",
    "#   用except块来应对try块中可能发生的相关异常，\n",
    "#   用else块实时地更新文件夹把更新中可能出现的异常回报给上级代码，然后用finally块来清理文件句柄\n",
    "\n",
    "UNDEFINED = object()\n",
    "def divide_json(path):\n",
    "    handle = open(path,\"r+\")\n",
    "    try:\n",
    "        data = handle.read()\n",
    "        op = json.loads(data)\n",
    "        value = (\n",
    "        op[\"numerator\"] / op[\"denominator\"]\n",
    "        )\n",
    "    except ZeroDivisionError as e:\n",
    "        return UNDEFINED\n",
    "    else:\n",
    "        op[\"result\"] = value\n",
    "        result = json.dumps(op)\n",
    "        handle.seek(0)\n",
    "        handle.write(result)\n",
    "        return value\n",
    "    finally:\n",
    "        handle.close()\n",
    "        \n",
    "# 这种写法很有用，因为这四块代码互相配合的非常到位。例如，即使else块写入result数据时发生异常，finally块中关闭文件句柄的那行代码，也依然能执行\n"
   ]
  },
  {
   "cell_type": "code",
   "execution_count": null,
   "metadata": {},
   "outputs": [],
   "source": [
    "# 要点\n",
    "#  1. 无论 try 块是否发生异常，都利用 try/finally 复合语句中的 finally 块来执行清理工作\n",
    "#  2. else 块可以用来缩减try块中代码量，并把没有发生异常时所执行的语句与 try/except 代码隔开\n",
    "#  3. 顺利运行 try 块后，若想使某些操作能在 finally块清理代码之前执行，则可将这些操作写道else块中。\n"
   ]
  }
 ],
 "metadata": {
  "kernelspec": {
   "display_name": "Python 3",
   "language": "python",
   "name": "python3"
  },
  "language_info": {
   "codemirror_mode": {
    "name": "ipython",
    "version": 3
   },
   "file_extension": ".py",
   "mimetype": "text/x-python",
   "name": "python",
   "nbconvert_exporter": "python",
   "pygments_lexer": "ipython3",
   "version": "3.7.0b1"
  }
 },
 "nbformat": 4,
 "nbformat_minor": 2
}
