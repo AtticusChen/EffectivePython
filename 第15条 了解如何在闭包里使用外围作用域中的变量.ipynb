{
 "cells": [
  {
   "cell_type": "code",
   "execution_count": 3,
   "metadata": {},
   "outputs": [
    {
     "name": "stdout",
     "output_type": "stream",
     "text": [
      "[2, 3, 5, 7, 1, 4, 6, 8]\n"
     ]
    }
   ],
   "source": [
    "\"\"\"\n",
    "假如有一份列表，其中的元素都是数字，现在要对其排序，但排序时，要把出现在某个群组内的数字，放在群组外的那些数字之前。\n",
    "这种用法在绘制用户界面时候可能会遇到，我们可以用这个办法把重要的消息或意外的事件优先显示在其他内容前面\n",
    " \n",
    "     实现该功能的一种常见做法，是是在调用列表的sort方法时，把辅助函数传给 key 参数，这个辅助函数的返回值，将会用来确定列表中各个元素顺序\n",
    "     辅助函数可以判断受测元素是否处在重要群组中，并据此返回相应的排序关键字（sort key）\n",
    "     \n",
    "\"\"\"\n",
    "def sort_priority(values,group):\n",
    "    def helper(x):\n",
    "        if x in group:\n",
    "            return (0,x)\n",
    "        return (1,x)\n",
    "    values.sort(key = helper)\n",
    "number = [8,3,1,2,5,4,7,6]\n",
    "group = {2,3,5,7}\n",
    "sort_priority(number,group)\n",
    "print(number)\n",
    "\n",
    "\"\"\"\n",
    "1. Python支持闭包：闭包是一种定义在某个作用域中的函数，这种函数引用了那个作用域里面的变量。helper函数之所以能够访问 sort_priority 的 group的参数，原因就是在于它是闭包\n",
    "2.Python的函数是一级对象，也就是说，我们可以直接引用函数、把函数赋值给变量、把函数当成参数传给其他的函数，并通过表达式以及 if 语句对其进行比较和判断\n",
    "等等，于是，我们可以把 helper这个闭包函数，传给sort方法的key参数\n",
    "3.Python使用特殊的规则来比较两个元组，首先比较各个元组中下标是为0的对应元素，如果相等，在比较下标为1对应元素，如果还是相等，那就继续比较下标为0对应元素，以此类推\n",
    "\n",
    "\"\"\"\n",
    "\n"
   ]
  },
  {
   "cell_type": "code",
   "execution_count": 5,
   "metadata": {},
   "outputs": [],
   "source": [
    "\"\"\"\n",
    "   这个 sort_priority 函数如果能够改进一下，就更好了。它应该返回一个值，用来表示用户界面是否出现了优先级较高的元件，使得该函数的调用者\n",
    "可以根据这个返回值做出相应的处理，添加这样的功能，看似非常简单。既然该函数里的闭包函数，能够判断受测数字是否处在群组内，那么不妨在发现\n",
    "优先级较高的元件，从闭包函数中翻转某个标志变量，然后令 sort_priority 函数把经过闭包修改的那个标志变量，返回给调用者。\n",
    "\"\"\"\n",
    "\n",
    "def sort_priority2(numbers,group):\n",
    "    found = False\n",
    "    def helper(x):\n",
    "        if x in group:\n",
    "            found = True\n",
    "            return(0,x)\n",
    "        return(1,x)\n",
    "    numbers.sort(key = helper)\n",
    "    return found\n",
    "\n",
    "\n",
    "\"\"\"\n",
    "在表达式中引用变量时，Python解释器将按如下顺序遍历作用域，以解释该引用：\n",
    "1.当前函数的作用域\n",
    "2.任何外围作用域（例如，包含当前函数的其他函数）\n",
    "3.包含当前代码的那个模块的作用域（全局作用域，gloabl scope）\n",
    "4.内置作用域\n",
    "\n",
    "如果上面这些地方都没有定义过名称相符的变量，那么抛出NameError异常\n",
    "    给变量赋值，规则有所不同。如果当前作用域内已经定义了这个变量，那么该变量就会具备新值。\n",
    "    若是当前作用域内没有这个变量，Python则会把这次赋值视为对该变量的定义。\n",
    "    而新定义的这个变量，其作用域就是包含赋值操作的这个函数\n",
    "\"\"\""
   ]
  },
  {
   "cell_type": "code",
   "execution_count": null,
   "metadata": {},
   "outputs": [],
   "source": [
    "# 获取闭包内的数据\n",
    "\n",
    "# Python3中有一种特殊的写法，能够获取闭包内的数据，我们可以用 nonlocal 语句来表明这样的意图，\n",
    "# 也就是：给相关变量赋值的时候，应该在上层作用域中查找该变量，nonlocal 的唯一限制在于，它不能延伸到模块级别，这是防止污染全局作用域\n",
    "\n",
    "def sort_priority3(numbers,group):\n",
    "    found = False\n",
    "    def helper(x):\n",
    "        nonlocal found\n",
    "        if x in group:\n",
    "            found = True\n",
    "            return (0,x)\n",
    "        return (1,x)\n",
    "    numbers.sort(key = helper)\n",
    "    return found\n"
   ]
  }
 ],
 "metadata": {
  "kernelspec": {
   "display_name": "Python 3",
   "language": "python",
   "name": "python3"
  },
  "language_info": {
   "codemirror_mode": {
    "name": "ipython",
    "version": 3
   },
   "file_extension": ".py",
   "mimetype": "text/x-python",
   "name": "python",
   "nbconvert_exporter": "python",
   "pygments_lexer": "ipython3",
   "version": "3.7.0b1"
  }
 },
 "nbformat": 4,
 "nbformat_minor": 2
}
